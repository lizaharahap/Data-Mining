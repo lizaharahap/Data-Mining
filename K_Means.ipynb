{
  "nbformat": 4,
  "nbformat_minor": 0,
  "metadata": {
    "colab": {
      "name": "Tugas Damin K-Means Clustering",
      "provenance": [],
      "collapsed_sections": []
    },
    "kernelspec": {
      "name": "python3",
      "display_name": "Python 3"
    }
  },
  "cells": [
    {
      "cell_type": "markdown",
      "metadata": {
        "id": "zqeARAY6p-Gw",
        "colab_type": "text"
      },
      "source": [
        "# **K-Means Clustering**\n",
        "\n",
        "Task yang dilakukan adalah mengelompokkan data rumah berdasarkan lokasi menggunakan atribut longitude dan latitude. K-Mean dipilih sebagai metode dalam task ini."
      ]
    },
    {
      "cell_type": "markdown",
      "metadata": {
        "id": "YoGfzuaGqu-d",
        "colab_type": "text"
      },
      "source": [
        "## **Import library**"
      ]
    },
    {
      "cell_type": "code",
      "metadata": {
        "id": "p3wg0rG3fGyW",
        "colab_type": "code",
        "colab": {}
      },
      "source": [
        "import pandas as pd\n",
        "import numpy as np\n",
        "import random as rd\n",
        "import matplotlib.pyplot as plt"
      ],
      "execution_count": 0,
      "outputs": []
    },
    {
      "cell_type": "markdown",
      "metadata": {
        "id": "cL19KPxMqywn",
        "colab_type": "text"
      },
      "source": [
        "## **Load Data**"
      ]
    },
    {
      "cell_type": "code",
      "metadata": {
        "id": "76WLdsKOfJo4",
        "colab_type": "code",
        "outputId": "994aec64-f286-4627-fc91-ec585f895cf6",
        "colab": {
          "base_uri": "https://localhost:8080/",
          "height": 224
        }
      },
      "source": [
        "!wget -O kc_house_data.csv https://raw.githubusercontent.com/Jonasyao/Machine-Learning-Specialization-University-of-Washington-/master/Regression/Assignment_four/kc_house_data.csv"
      ],
      "execution_count": 2,
      "outputs": [
        {
          "output_type": "stream",
          "text": [
            "--2020-03-23 23:09:20--  https://raw.githubusercontent.com/Jonasyao/Machine-Learning-Specialization-University-of-Washington-/master/Regression/Assignment_four/kc_house_data.csv\n",
            "Resolving raw.githubusercontent.com (raw.githubusercontent.com)... 151.101.0.133, 151.101.64.133, 151.101.128.133, ...\n",
            "Connecting to raw.githubusercontent.com (raw.githubusercontent.com)|151.101.0.133|:443... connected.\n",
            "HTTP request sent, awaiting response... 200 OK\n",
            "Length: 368640 (360K) [text/plain]\n",
            "Saving to: ‘kc_house_data.csv’\n",
            "\n",
            "\rkc_house_data.csv     0%[                    ]       0  --.-KB/s               \rkc_house_data.csv   100%[===================>] 360.00K  --.-KB/s    in 0.03s   \n",
            "\n",
            "2020-03-23 23:09:20 (10.5 MB/s) - ‘kc_house_data.csv’ saved [368640/368640]\n",
            "\n"
          ],
          "name": "stdout"
        }
      ]
    },
    {
      "cell_type": "code",
      "metadata": {
        "id": "sKx7ycoffSJK",
        "colab_type": "code",
        "colab": {}
      },
      "source": [
        "df = pd.read_csv(\"kc_house_data.csv\")"
      ],
      "execution_count": 0,
      "outputs": []
    },
    {
      "cell_type": "markdown",
      "metadata": {
        "id": "_MkBld5Iq7wn",
        "colab_type": "text"
      },
      "source": [
        "## **Preprocessing**"
      ]
    },
    {
      "cell_type": "markdown",
      "metadata": {
        "id": "mkW1_tRarXpA",
        "colab_type": "text"
      },
      "source": [
        "Pada tahap ini dilakukan pengambilan atribut yang akan digunakan pada clustering, yaitu longitude dan latitude."
      ]
    },
    {
      "cell_type": "code",
      "metadata": {
        "id": "_OmFWSfefh4K",
        "colab_type": "code",
        "colab": {}
      },
      "source": [
        "data = (df[[\"lat\", \"long\"]])"
      ],
      "execution_count": 0,
      "outputs": []
    },
    {
      "cell_type": "code",
      "metadata": {
        "id": "ehhAwHzKf1Mf",
        "colab_type": "code",
        "colab": {}
      },
      "source": [
        "X = data.iloc[:, [0, 1]].values"
      ],
      "execution_count": 0,
      "outputs": []
    },
    {
      "cell_type": "code",
      "metadata": {
        "id": "nopvW_NBf2oz",
        "colab_type": "code",
        "outputId": "d13f3705-cd48-4896-b6cb-6e9b9472d722",
        "colab": {
          "base_uri": "https://localhost:8080/",
          "height": 136
        }
      },
      "source": [
        "X"
      ],
      "execution_count": 6,
      "outputs": [
        {
          "output_type": "execute_result",
          "data": {
            "text/plain": [
              "array([[  47.5112, -122.257 ],\n",
              "       [  47.721 , -122.319 ],\n",
              "       [  47.7379, -122.233 ],\n",
              "       ...,\n",
              "       [  47.5281, -122.388 ],\n",
              "       [  47.7528, -122.119 ],\n",
              "       [  47.6838, -122.3   ]])"
            ]
          },
          "metadata": {
            "tags": []
          },
          "execution_count": 6
        }
      ]
    },
    {
      "cell_type": "code",
      "metadata": {
        "id": "RIOouJragy_S",
        "colab_type": "code",
        "colab": {}
      },
      "source": [
        "m=X.shape[0] #number of training examples\n",
        "n=X.shape[1] #number of features. Here n=2"
      ],
      "execution_count": 0,
      "outputs": []
    },
    {
      "cell_type": "markdown",
      "metadata": {
        "id": "kS90YUEgrO98",
        "colab_type": "text"
      },
      "source": [
        "## **K-Mean**"
      ]
    },
    {
      "cell_type": "markdown",
      "metadata": {
        "id": "TpUPn_rsrpld",
        "colab_type": "text"
      },
      "source": [
        "Inisialisasi jumlah iterasi dan jumlah cluster."
      ]
    },
    {
      "cell_type": "code",
      "metadata": {
        "id": "RcXNHFYshKvv",
        "colab_type": "code",
        "colab": {}
      },
      "source": [
        "n_iter=100\n",
        "K=5"
      ],
      "execution_count": 0,
      "outputs": []
    },
    {
      "cell_type": "markdown",
      "metadata": {
        "id": "0CWAtVY6rueD",
        "colab_type": "text"
      },
      "source": [
        "Inisialisasi centroid"
      ]
    },
    {
      "cell_type": "code",
      "metadata": {
        "id": "6e8ytJKuhU1n",
        "colab_type": "code",
        "colab": {}
      },
      "source": [
        "Centroids=np.array([]).reshape(n,0)"
      ],
      "execution_count": 0,
      "outputs": []
    },
    {
      "cell_type": "code",
      "metadata": {
        "id": "XxTcMIeYhYkm",
        "colab_type": "code",
        "colab": {}
      },
      "source": [
        "for i in range(K):\n",
        "    rand=rd.randint(0,m-1)\n",
        "    Centroids=np.c_[Centroids,X[rand]]"
      ],
      "execution_count": 0,
      "outputs": []
    },
    {
      "cell_type": "markdown",
      "metadata": {
        "id": "q1tBz0oOr-qj",
        "colab_type": "text"
      },
      "source": [
        "Menghitung Eucledian Distance"
      ]
    },
    {
      "cell_type": "code",
      "metadata": {
        "id": "ywgjF-Onho63",
        "colab_type": "code",
        "colab": {}
      },
      "source": [
        "EuclidianDistance=np.array([]).reshape(m,0)\n",
        "for k in range(K):\n",
        "  tempDist=np.sum((X-Centroids[:,k])**2,axis=1)\n",
        "  EuclidianDistance=np.c_[EuclidianDistance,tempDist]\n",
        "C=np.argmin(EuclidianDistance,axis=1)+1"
      ],
      "execution_count": 0,
      "outputs": []
    },
    {
      "cell_type": "markdown",
      "metadata": {
        "id": "e1fWoOlzsFXE",
        "colab_type": "text"
      },
      "source": [
        "Proses clustering"
      ]
    },
    {
      "cell_type": "code",
      "metadata": {
        "id": "Ly_kDDm1hd57",
        "colab_type": "code",
        "colab": {}
      },
      "source": [
        "Output={}"
      ],
      "execution_count": 0,
      "outputs": []
    },
    {
      "cell_type": "code",
      "metadata": {
        "id": "vftasW0DhuXv",
        "colab_type": "code",
        "colab": {}
      },
      "source": [
        "Y={}\n",
        "for k in range(K):\n",
        "    Y[k+1]=np.array([]).reshape(2,0)\n",
        "for i in range(m):\n",
        "    Y[C[i]]=np.c_[Y[C[i]],X[i]]\n",
        "     \n",
        "for k in range(K):\n",
        "    Y[k+1]=Y[k+1].T\n",
        "    \n",
        "for k in range(K):\n",
        "     Centroids[:,k]=np.mean(Y[k+1],axis=0)"
      ],
      "execution_count": 0,
      "outputs": []
    },
    {
      "cell_type": "code",
      "metadata": {
        "id": "9mcXCgYph7RS",
        "colab_type": "code",
        "colab": {}
      },
      "source": [
        "for i in range(n_iter):\n",
        "     #step 2.a\n",
        "      EuclidianDistance=np.array([]).reshape(m,0)\n",
        "      for k in range(K):\n",
        "          tempDist=np.sum((X-Centroids[:,k])**2,axis=1)\n",
        "          EuclidianDistance=np.c_[EuclidianDistance,tempDist]\n",
        "      C=np.argmin(EuclidianDistance,axis=1)+1\n",
        "     #step 2.b\n",
        "      Y={}\n",
        "      for k in range(K):\n",
        "          Y[k+1]=np.array([]).reshape(2,0)\n",
        "      for i in range(m):\n",
        "          Y[C[i]]=np.c_[Y[C[i]],X[i]]\n",
        "     \n",
        "      for k in range(K):\n",
        "          Y[k+1]=Y[k+1].T\n",
        "    \n",
        "      for k in range(K):\n",
        "          Centroids[:,k]=np.mean(Y[k+1],axis=0)\n",
        "      Output=Y"
      ],
      "execution_count": 0,
      "outputs": []
    },
    {
      "cell_type": "markdown",
      "metadata": {
        "id": "g7oW6q1dsVYR",
        "colab_type": "text"
      },
      "source": [
        "Gambar di bawah merupakan representasi dari data yang belum dicluster."
      ]
    },
    {
      "cell_type": "code",
      "metadata": {
        "id": "ioaMPWoIh_1O",
        "colab_type": "code",
        "outputId": "c992e6a5-c640-4c68-e3d4-dc8079ed1da3",
        "colab": {
          "base_uri": "https://localhost:8080/",
          "height": 295
        }
      },
      "source": [
        "plt.scatter(X[:,0],X[:,1],c='black',label='unclustered data')\n",
        "plt.xlabel('lat')\n",
        "plt.ylabel('long')\n",
        "plt.legend()\n",
        "plt.title('Plot of data points')\n",
        "plt.show()"
      ],
      "execution_count": 15,
      "outputs": [
        {
          "output_type": "display_data",
          "data": {
            "image/png": "[encoded data removed]",
            "text/plain": [
              "<Figure size 432x288 with 1 Axes>"
            ]
          },
          "metadata": {
            "tags": []
          }
        }
      ]
    },
    {
      "cell_type": "markdown",
      "metadata": {
        "id": "AHoScTBisgRC",
        "colab_type": "text"
      },
      "source": [
        "Gambar di bawah merupakan representasi dari data yang sudah dicluster."
      ]
    },
    {
      "cell_type": "code",
      "metadata": {
        "id": "kGHELUEciDV3",
        "colab_type": "code",
        "outputId": "6882d905-ee43-441a-ec09-7ce916281bbc",
        "colab": {
          "base_uri": "https://localhost:8080/",
          "height": 279
        }
      },
      "source": [
        "color=['red','blue','green','cyan','magenta']\n",
        "labels=['cluster1','cluster2','cluster3', 'cluster4', 'cluster5']\n",
        "for k in range(K):\n",
        "    plt.scatter(Output[k+1][:,0],Output[k+1][:,1],c=color[k],label=labels[k])\n",
        "plt.scatter(Centroids[0,:],Centroids[1,:],s=300,c='yellow',label='Centroids')\n",
        "plt.xlabel('Lat')\n",
        "plt.ylabel('Long')\n",
        "plt.legend()\n",
        "plt.show()"
      ],
      "execution_count": 16,
      "outputs": [
        {
          "output_type": "display_data",
          "data": {
            "image/png": "[encoded data removed]",
            "text/plain": [
              "<Figure size 432x288 with 1 Axes>"
            ]
          },
          "metadata": {
            "tags": []
          }
        }
      ]
    },
    {
      "cell_type": "markdown",
      "metadata": {
        "id": "vvltw4uCzD_1",
        "colab_type": "text"
      },
      "source": [
        "## **Elbow Method**"
      ]
    },
    {
      "cell_type": "code",
      "metadata": {
        "id": "tHXliO1d3kd9",
        "colab_type": "code",
        "outputId": "c580e11a-267f-4c44-930f-f2bfcb9bf416",
        "colab": {
          "base_uri": "https://localhost:8080/",
          "height": 295
        }
      },
      "source": [
        "#lets implement the same algorithm using sklearn libraries\n",
        "# Using the elbow method to find the optimal number of clusters\n",
        "from sklearn.cluster import KMeans\n",
        "wcss = []\n",
        "for i in range(1, 11):\n",
        "    kmeans = KMeans(n_clusters = i, init = 'k-means++', random_state = 42)\n",
        "    kmeans.fit(data)\n",
        "    wcss.append(kmeans.inertia_)\n",
        "plt.plot(range(1, 11), wcss)\n",
        "plt.title('The Elbow Method')\n",
        "plt.xlabel('Number of clusters')\n",
        "plt.ylabel('WCSS')\n",
        "plt.show()"
      ],
      "execution_count": 17,
      "outputs": [
        {
          "output_type": "display_data",
          "data": {
            "image/png": "[encoded data removed]",
            "text/plain": [
              "<Figure size 432x288 with 1 Axes>"
            ]
          },
          "metadata": {
            "tags": []
          }
        }
      ]
    },
    {
      "cell_type": "markdown",
      "metadata": {
        "id": "jtqnqVb5zQgn",
        "colab_type": "text"
      },
      "source": [
        "## **Silhouette Score**"
      ]
    },
    {
      "cell_type": "code",
      "metadata": {
        "id": "3kmZs3ky17dn",
        "colab_type": "code",
        "outputId": "bec72a2d-201c-4afe-b211-7c11b3a42ecf",
        "colab": {
          "base_uri": "https://localhost:8080/",
          "height": 1000
        }
      },
      "source": [
        "from sklearn import cluster\n",
        "import numpy as numpy\n",
        "import sklearn\n",
        "import matplotlib.pyplot as plt\n",
        "\n",
        "\n",
        "obs = numpy.concatenate( (numpy.random.randn(100, 2) , 20 + numpy.random.randn(300, 2) , -15+numpy.random.randn(200, 2)))\n",
        "silhouette_score_values=list()\n",
        "\n",
        "NumberOfClusters=range(2,30)\n",
        "\n",
        "for i in NumberOfClusters:\n",
        "    \n",
        "    classifier=cluster.KMeans(i,init='k-means++', n_init=10, max_iter=300, tol=0.0001, verbose=0, random_state=None, copy_x=True)\n",
        "    classifier.fit(obs)\n",
        "    labels= classifier.predict(obs)\n",
        "    print(\"Number Of Clusters:\")\n",
        "    print(i)\n",
        "    print(\"Silhouette score value\")\n",
        "    print(sklearn.metrics.silhouette_score(obs,labels ,metric='euclidean', sample_size=None, random_state=None))\n",
        "    silhouette_score_values.append(sklearn.metrics.silhouette_score(obs,labels ,metric='euclidean', sample_size=None, random_state=None))\n",
        "\n",
        "plt.plot(NumberOfClusters, silhouette_score_values)\n",
        "plt.title(\"Silhouette score values vs Numbers of Clusters \")\n",
        "plt.show()\n",
        "\n",
        "Optimal_NumberOf_Components=NumberOfClusters[silhouette_score_values.index(max(silhouette_score_values))]\n",
        "print(\"Optimal number of components is:\")\n",
        "print(Optimal_NumberOf_Components)"
      ],
      "execution_count": 19,
      "outputs": [
        {
          "output_type": "stream",
          "text": [
            "Number Of Clusters:\n",
            "2\n",
            "Silhouette score value\n",
            "0.8363950604874151\n",
            "Number Of Clusters:\n",
            "3\n",
            "Silhouette score value\n",
            "0.9275025552824714\n",
            "Number Of Clusters:\n",
            "4\n",
            "Silhouette score value\n",
            "0.6331927624045462\n",
            "Number Of Clusters:\n",
            "5\n",
            "Silhouette score value\n",
            "0.4402370990862806\n",
            "Number Of Clusters:\n",
            "6\n",
            "Silhouette score value\n",
            "0.4424940974817207\n",
            "Number Of Clusters:\n",
            "7\n",
            "Silhouette score value\n",
            "0.44379194834953467\n",
            "Number Of Clusters:\n",
            "8\n",
            "Silhouette score value\n",
            "0.4550254526724329\n",
            "Number Of Clusters:\n",
            "9\n",
            "Silhouette score value\n",
            "0.3357191755180358\n",
            "Number Of Clusters:\n",
            "10\n",
            "Silhouette score value\n",
            "0.34718734475025365\n",
            "Number Of Clusters:\n",
            "11\n",
            "Silhouette score value\n",
            "0.34822947765946355\n",
            "Number Of Clusters:\n",
            "12\n",
            "Silhouette score value\n",
            "0.3325137431681386\n",
            "Number Of Clusters:\n",
            "13\n",
            "Silhouette score value\n",
            "0.3192780906780804\n",
            "Number Of Clusters:\n",
            "14\n",
            "Silhouette score value\n",
            "0.3232185388552096\n",
            "Number Of Clusters:\n",
            "15\n",
            "Silhouette score value\n",
            "0.3404901860219439\n",
            "Number Of Clusters:\n",
            "16\n",
            "Silhouette score value\n",
            "0.33282393873845545\n",
            "Number Of Clusters:\n",
            "17\n",
            "Silhouette score value\n",
            "0.33751574311163957\n",
            "Number Of Clusters:\n",
            "18\n",
            "Silhouette score value\n",
            "0.345529277912474\n",
            "Number Of Clusters:\n",
            "19\n",
            "Silhouette score value\n",
            "0.3317965105251454\n",
            "Number Of Clusters:\n",
            "20\n",
            "Silhouette score value\n",
            "0.3344903299133604\n",
            "Number Of Clusters:\n",
            "21\n",
            "Silhouette score value\n",
            "0.34675828228022615\n",
            "Number Of Clusters:\n",
            "22\n",
            "Silhouette score value\n",
            "0.33495499653400834\n",
            "Number Of Clusters:\n",
            "23\n",
            "Silhouette score value\n",
            "0.34601104324293985\n",
            "Number Of Clusters:\n",
            "24\n",
            "Silhouette score value\n",
            "0.3489654799216897\n",
            "Number Of Clusters:\n",
            "25\n",
            "Silhouette score value\n",
            "0.3449186864454199\n",
            "Number Of Clusters:\n",
            "26\n",
            "Silhouette score value\n",
            "0.3626400020377094\n",
            "Number Of Clusters:\n",
            "27\n",
            "Silhouette score value\n",
            "0.3460659937173054\n",
            "Number Of Clusters:\n",
            "28\n",
            "Silhouette score value\n",
            "0.34415384275638033\n",
            "Number Of Clusters:\n",
            "29\n",
            "Silhouette score value\n",
            "0.35396888218005296\n"
          ],
          "name": "stdout"
        },
        {
          "output_type": "display_data",
          "data": {
            "image/png": "[encoded data removed]",
            "text/plain": [
              "<Figure size 432x288 with 1 Axes>"
            ]
          },
          "metadata": {
            "tags": []
          }
        },
        {
          "output_type": "stream",
          "text": [
            "Optimal number of components is:\n",
            "3\n"
          ],
          "name": "stdout"
        }
      ]
    },
    {
      "cell_type": "code",
      "metadata": {
        "id": "m9LOge4WjjVZ",
        "colab_type": "code",
        "outputId": "a10b7d8e-0bfd-44c8-89ac-f08c59805f40",
        "colab": {
          "base_uri": "https://localhost:8080/",
          "height": 170
        }
      },
      "source": [
        "\n",
        "from sklearn.metrics import silhouette_score\n",
        "\n",
        "sil = []\n",
        "kmax = 10\n",
        "\n",
        "# dissimilarity would not be defined for a single cluster, thus, minimum number of clusters should be 2\n",
        "for k in range(2, kmax+1):\n",
        "  kmeans = KMeans(n_clusters = K).fit(data)\n",
        "  labels = kmeans.labels_\n",
        "  sil.append(silhouette_score(data, labels, metric = 'euclidean'))\n",
        "sil"
      ],
      "execution_count": 20,
      "outputs": [
        {
          "output_type": "execute_result",
          "data": {
            "text/plain": [
              "[0.38586667293126725,\n",
              " 0.3852142933605929,\n",
              " 0.38651940687108327,\n",
              " 0.38534741540247114,\n",
              " 0.3865600788372062,\n",
              " 0.3858525094334466,\n",
              " 0.3852142933605929,\n",
              " 0.3853535115850524,\n",
              " 0.38515052555672097]"
            ]
          },
          "metadata": {
            "tags": []
          },
          "execution_count": 20
        }
      ]
    }
  ]
}