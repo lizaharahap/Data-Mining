{
 "cells": [
  {
   "cell_type": "code",
   "execution_count": 97,
   "metadata": {},
   "outputs": [],
   "source": [
    "import pandas as pd\n",
    "import numpy as np\n",
    "import collections\n",
    "from sklearn.naive_bayes import GaussianNB\n",
    "from sklearn.model_selection import train_test_split\n",
    "from sklearn import metrics\n",
    "import csv\n",
    "from sklearn.model_selection import RepeatedKFold\n",
    "from sklearn.model_selection import train_test_split\n",
    "\n",
    "# Python script for confusion matrix creation.\n",
    "from sklearn.metrics import confusion_matrix\n",
    "from sklearn.metrics import accuracy_score\n",
    "from sklearn.metrics import classification_report\n",
    "\n",
    "from sklearn.metrics import f1_score\n",
    "\n",
    "#Import scikit-learn metrics module for accuracy calculation\n",
    "from sklearn import metrics"
   ]
  },
  {
   "cell_type": "code",
   "execution_count": 98,
   "metadata": {},
   "outputs": [
    {
     "data": {
      "text/html": [
       "<div>\n",
       "<style scoped>\n",
       "    .dataframe tbody tr th:only-of-type {\n",
       "        vertical-align: middle;\n",
       "    }\n",
       "\n",
       "    .dataframe tbody tr th {\n",
       "        vertical-align: top;\n",
       "    }\n",
       "\n",
       "    .dataframe thead th {\n",
       "        text-align: right;\n",
       "    }\n",
       "</style>\n",
       "<table border=\"1\" class=\"dataframe\">\n",
       "  <thead>\n",
       "    <tr style=\"text-align: right;\">\n",
       "      <th></th>\n",
       "      <th>No</th>\n",
       "      <th>ID</th>\n",
       "      <th>JK</th>\n",
       "      <th>Kecamatan</th>\n",
       "      <th>Jenis_Tinggal</th>\n",
       "      <th>Alat_Transportasi</th>\n",
       "      <th>Penerima_KPS</th>\n",
       "      <th>Pekerjaan_Ayah</th>\n",
       "      <th>Penghasilan_Ayah</th>\n",
       "      <th>Pekerjaan_Ibu</th>\n",
       "      <th>Penghasilan_Ibu</th>\n",
       "      <th>Rombel_Saat_Ini</th>\n",
       "      <th>Penerima_KIP</th>\n",
       "      <th>Layak_PIP</th>\n",
       "    </tr>\n",
       "  </thead>\n",
       "  <tbody>\n",
       "    <tr>\n",
       "      <th>0</th>\n",
       "      <td>1</td>\n",
       "      <td>1</td>\n",
       "      <td>L</td>\n",
       "      <td>Kec. Tenayan Raya</td>\n",
       "      <td>Bersama orang tua</td>\n",
       "      <td>Sepeda motor</td>\n",
       "      <td>Tidak</td>\n",
       "      <td>PNS/TNI/Polri</td>\n",
       "      <td>2-5</td>\n",
       "      <td>PNS/TNI/Polri</td>\n",
       "      <td>2-5</td>\n",
       "      <td>X MIPA 6</td>\n",
       "      <td>Tidak</td>\n",
       "      <td>Tidak</td>\n",
       "    </tr>\n",
       "    <tr>\n",
       "      <th>1</th>\n",
       "      <td>2</td>\n",
       "      <td>2</td>\n",
       "      <td>L</td>\n",
       "      <td>Kec. Tenayan Raya</td>\n",
       "      <td>Bersama orang tua</td>\n",
       "      <td>Sepeda motor</td>\n",
       "      <td>Tidak</td>\n",
       "      <td>Wiraswasta</td>\n",
       "      <td>2-5</td>\n",
       "      <td>Pedagang Kecil</td>\n",
       "      <td>&lt;0,5</td>\n",
       "      <td>XI MIPA 7</td>\n",
       "      <td>Tidak</td>\n",
       "      <td>Tidak</td>\n",
       "    </tr>\n",
       "    <tr>\n",
       "      <th>2</th>\n",
       "      <td>3</td>\n",
       "      <td>3</td>\n",
       "      <td>L</td>\n",
       "      <td>Kec. Tenayan Raya</td>\n",
       "      <td>Bersama orang tua</td>\n",
       "      <td>Ojek</td>\n",
       "      <td>Tidak</td>\n",
       "      <td>Sudah Meninggal</td>\n",
       "      <td>no</td>\n",
       "      <td>Tidak bekerja</td>\n",
       "      <td>no</td>\n",
       "      <td>XI IPS 3</td>\n",
       "      <td>Tidak</td>\n",
       "      <td>Tidak</td>\n",
       "    </tr>\n",
       "    <tr>\n",
       "      <th>3</th>\n",
       "      <td>4</td>\n",
       "      <td>4</td>\n",
       "      <td>L</td>\n",
       "      <td>Kec. Marpoyan Damai</td>\n",
       "      <td>Bersama orang tua</td>\n",
       "      <td>Sepeda motor</td>\n",
       "      <td>Tidak</td>\n",
       "      <td>Karyawan Swasta</td>\n",
       "      <td>5-20</td>\n",
       "      <td>Tidak bekerja</td>\n",
       "      <td>no</td>\n",
       "      <td>XII MIPA 3</td>\n",
       "      <td>Tidak</td>\n",
       "      <td>Tidak</td>\n",
       "    </tr>\n",
       "    <tr>\n",
       "      <th>4</th>\n",
       "      <td>5</td>\n",
       "      <td>5</td>\n",
       "      <td>P</td>\n",
       "      <td>Kec. Tenayan Raya</td>\n",
       "      <td>Bersama orang tua</td>\n",
       "      <td>Angkutan umum/bus/pete-pete</td>\n",
       "      <td>Tidak</td>\n",
       "      <td>Wiraswasta</td>\n",
       "      <td>0,5-1</td>\n",
       "      <td>Tidak bekerja</td>\n",
       "      <td>no</td>\n",
       "      <td>X IPS 1</td>\n",
       "      <td>Tidak</td>\n",
       "      <td>Ya</td>\n",
       "    </tr>\n",
       "  </tbody>\n",
       "</table>\n",
       "</div>"
      ],
      "text/plain": [
       "   No  ID JK            Kecamatan      Jenis_Tinggal  \\\n",
       "0   1   1  L    Kec. Tenayan Raya  Bersama orang tua   \n",
       "1   2   2  L    Kec. Tenayan Raya  Bersama orang tua   \n",
       "2   3   3  L    Kec. Tenayan Raya  Bersama orang tua   \n",
       "3   4   4  L  Kec. Marpoyan Damai  Bersama orang tua   \n",
       "4   5   5  P    Kec. Tenayan Raya  Bersama orang tua   \n",
       "\n",
       "             Alat_Transportasi Penerima_KPS   Pekerjaan_Ayah Penghasilan_Ayah  \\\n",
       "0                 Sepeda motor        Tidak    PNS/TNI/Polri              2-5   \n",
       "1                 Sepeda motor        Tidak       Wiraswasta              2-5   \n",
       "2                         Ojek        Tidak  Sudah Meninggal               no   \n",
       "3                 Sepeda motor        Tidak  Karyawan Swasta             5-20   \n",
       "4  Angkutan umum/bus/pete-pete        Tidak       Wiraswasta            0,5-1   \n",
       "\n",
       "    Pekerjaan_Ibu Penghasilan_Ibu Rombel_Saat_Ini Penerima_KIP Layak_PIP  \n",
       "0   PNS/TNI/Polri             2-5        X MIPA 6        Tidak     Tidak  \n",
       "1  Pedagang Kecil            <0,5       XI MIPA 7        Tidak     Tidak  \n",
       "2   Tidak bekerja              no        XI IPS 3        Tidak     Tidak  \n",
       "3   Tidak bekerja              no      XII MIPA 3        Tidak     Tidak  \n",
       "4   Tidak bekerja              no         X IPS 1        Tidak        Ya  "
      ]
     },
     "execution_count": 98,
     "metadata": {},
     "output_type": "execute_result"
    }
   ],
   "source": [
    "data = pd.read_csv('data2.csv')\n",
    "data.head()"
   ]
  },
  {
   "cell_type": "code",
   "execution_count": 99,
   "metadata": {},
   "outputs": [
    {
     "data": {
      "text/plain": [
       "(882, 14)"
      ]
     },
     "execution_count": 99,
     "metadata": {},
     "output_type": "execute_result"
    }
   ],
   "source": [
    "data.shape"
   ]
  },
  {
   "cell_type": "code",
   "execution_count": 100,
   "metadata": {},
   "outputs": [
    {
     "name": "stdout",
     "output_type": "stream",
     "text": [
      "<class 'pandas.core.frame.DataFrame'>\n",
      "RangeIndex: 882 entries, 0 to 881\n",
      "Data columns (total 14 columns):\n",
      "No                   882 non-null int64\n",
      "ID                   882 non-null int64\n",
      "JK                   882 non-null object\n",
      "Kecamatan            882 non-null object\n",
      "Jenis_Tinggal        882 non-null object\n",
      "Alat_Transportasi    882 non-null object\n",
      "Penerima_KPS         882 non-null object\n",
      "Pekerjaan_Ayah       882 non-null object\n",
      "Penghasilan_Ayah     882 non-null object\n",
      "Pekerjaan_Ibu        882 non-null object\n",
      "Penghasilan_Ibu      882 non-null object\n",
      "Rombel_Saat_Ini      882 non-null object\n",
      "Penerima_KIP         882 non-null object\n",
      "Layak_PIP            882 non-null object\n",
      "dtypes: int64(2), object(12)\n",
      "memory usage: 55.2+ KB\n"
     ]
    }
   ],
   "source": [
    "data.info()"
   ]
  },
  {
   "cell_type": "code",
   "execution_count": 101,
   "metadata": {},
   "outputs": [],
   "source": [
    "data = data.drop(['ID'], axis=1)\n",
    "data = data.drop(['No'], axis=1)\n",
    "data = data.drop(['JK'], axis=1)\n",
    "data = data.drop(['Kecamatan'], axis=1)\n",
    "data = data.drop(['Rombel_Saat_Ini'], axis=1)"
   ]
  },
  {
   "cell_type": "code",
   "execution_count": 102,
   "metadata": {},
   "outputs": [],
   "source": [
    "data['Jenis_Tinggal'] = data['Jenis_Tinggal'].replace({'Bersama orang tua': 1, 'Wali': 2, 'Asrama': 3,'Lainnya':4,'Kost':4})\n",
    "\n",
    "data['Alat_Transportasi'] = data['Alat_Transportasi'].replace({'Sepeda motor': 1, 'Ojek': 2, 'Angkutan umum/bus/pete-pete': 3,'Jalan kaki':4,'Mobil/bus antar jemput':5,'Kendaraan pribadi':6,'Lainnya':7,'Mobil pribadi':8,'Kereta api':9})\n",
    "\n",
    "data['Penerima_KPS'] = data['Penerima_KPS'].replace({'Ya': 1, 'Tidak': 0})\n",
    "\n",
    "data['Pekerjaan_Ayah'] = data['Pekerjaan_Ayah'].replace({'Wiraswasta': 1, 'PNS/TNI/Polri': 2, 'Sudah Meninggal': 3, 'Karyawan Swasta': 4, 'Pensiunan': 5, 'Pedagang Kecil': 6, 'Petani': 7, 'Tidak bekerja': 8, 'Buruh': 9, 'Buruh': 10, 'Lainnya': 11, 'Wirausaha': 12,'Pedagang Besar':13,'Peternak':14})\n",
    "\n",
    "data['Penghasilan_Ayah'] = data['Penghasilan_Ayah'].replace({'2-5': 1, 'no': 2, '5-20': 3, '0,5-1': 4, '1-2': 5, '>2': 6, '>2': 7, '<1': 8, '<0,5': 7,'>20':8})\n",
    "\n",
    "data['Pekerjaan_Ibu'] = data['Pekerjaan_Ibu'].replace({'Wiraswasta': 1, 'PNS/TNI/Polri': 2, 'Sudah Meninggal': 3, 'Karyawan Swasta': 4, 'Pensiunan': 5, 'Pedagang Kecil': 6, 'Petani': 7, 'Tidak bekerja': 8, 'Buruh': 9, 'Buruh': 10, 'Lainnya': 11, 'Wirausaha': 12,'Pedagang Besar':13,'Peternak':14})\n",
    "\n",
    "data['Penghasilan_Ibu'] = data['Penghasilan_Ibu'].replace({'2-5': 1, 'no': 2, '5-20': 3, '0,5-1': 4, '1-2': 5, '>2': 6, '>2': 7, '<1': 8, '<0,5': 7,'>20':8})\n",
    "\n",
    "data['Penerima_KIP'] = data['Penerima_KIP'].replace({'Ya': 1, 'Tidak': 0})\n",
    "\n",
    "data['Layak_PIP'] = data['Layak_PIP'].replace({'Ya': 1, 'Tidak': 0})\n",
    "\n",
    "features = data.drop(['Layak_PIP'], axis=1)\n",
    "label = data['Layak_PIP']"
   ]
  },
  {
   "cell_type": "code",
   "execution_count": 103,
   "metadata": {},
   "outputs": [
    {
     "data": {
      "text/html": [
       "<div>\n",
       "<style scoped>\n",
       "    .dataframe tbody tr th:only-of-type {\n",
       "        vertical-align: middle;\n",
       "    }\n",
       "\n",
       "    .dataframe tbody tr th {\n",
       "        vertical-align: top;\n",
       "    }\n",
       "\n",
       "    .dataframe thead th {\n",
       "        text-align: right;\n",
       "    }\n",
       "</style>\n",
       "<table border=\"1\" class=\"dataframe\">\n",
       "  <thead>\n",
       "    <tr style=\"text-align: right;\">\n",
       "      <th></th>\n",
       "      <th>Jenis_Tinggal</th>\n",
       "      <th>Alat_Transportasi</th>\n",
       "      <th>Penerima_KPS</th>\n",
       "      <th>Pekerjaan_Ayah</th>\n",
       "      <th>Penghasilan_Ayah</th>\n",
       "      <th>Pekerjaan_Ibu</th>\n",
       "      <th>Penghasilan_Ibu</th>\n",
       "      <th>Penerima_KIP</th>\n",
       "      <th>Layak_PIP</th>\n",
       "    </tr>\n",
       "  </thead>\n",
       "  <tbody>\n",
       "    <tr>\n",
       "      <th>0</th>\n",
       "      <td>1</td>\n",
       "      <td>1</td>\n",
       "      <td>0</td>\n",
       "      <td>2</td>\n",
       "      <td>1</td>\n",
       "      <td>2</td>\n",
       "      <td>1</td>\n",
       "      <td>0</td>\n",
       "      <td>0</td>\n",
       "    </tr>\n",
       "    <tr>\n",
       "      <th>1</th>\n",
       "      <td>1</td>\n",
       "      <td>1</td>\n",
       "      <td>0</td>\n",
       "      <td>1</td>\n",
       "      <td>1</td>\n",
       "      <td>6</td>\n",
       "      <td>7</td>\n",
       "      <td>0</td>\n",
       "      <td>0</td>\n",
       "    </tr>\n",
       "    <tr>\n",
       "      <th>2</th>\n",
       "      <td>1</td>\n",
       "      <td>2</td>\n",
       "      <td>0</td>\n",
       "      <td>3</td>\n",
       "      <td>2</td>\n",
       "      <td>8</td>\n",
       "      <td>2</td>\n",
       "      <td>0</td>\n",
       "      <td>0</td>\n",
       "    </tr>\n",
       "    <tr>\n",
       "      <th>3</th>\n",
       "      <td>1</td>\n",
       "      <td>1</td>\n",
       "      <td>0</td>\n",
       "      <td>4</td>\n",
       "      <td>3</td>\n",
       "      <td>8</td>\n",
       "      <td>2</td>\n",
       "      <td>0</td>\n",
       "      <td>0</td>\n",
       "    </tr>\n",
       "    <tr>\n",
       "      <th>4</th>\n",
       "      <td>1</td>\n",
       "      <td>3</td>\n",
       "      <td>0</td>\n",
       "      <td>1</td>\n",
       "      <td>4</td>\n",
       "      <td>8</td>\n",
       "      <td>2</td>\n",
       "      <td>0</td>\n",
       "      <td>1</td>\n",
       "    </tr>\n",
       "  </tbody>\n",
       "</table>\n",
       "</div>"
      ],
      "text/plain": [
       "   Jenis_Tinggal  Alat_Transportasi  Penerima_KPS  Pekerjaan_Ayah  \\\n",
       "0              1                  1             0               2   \n",
       "1              1                  1             0               1   \n",
       "2              1                  2             0               3   \n",
       "3              1                  1             0               4   \n",
       "4              1                  3             0               1   \n",
       "\n",
       "   Penghasilan_Ayah  Pekerjaan_Ibu  Penghasilan_Ibu  Penerima_KIP  Layak_PIP  \n",
       "0                 1              2                1             0          0  \n",
       "1                 1              6                7             0          0  \n",
       "2                 2              8                2             0          0  \n",
       "3                 3              8                2             0          0  \n",
       "4                 4              8                2             0          1  "
      ]
     },
     "execution_count": 103,
     "metadata": {},
     "output_type": "execute_result"
    }
   ],
   "source": [
    "data.head()"
   ]
  },
  {
   "cell_type": "code",
   "execution_count": 104,
   "metadata": {},
   "outputs": [],
   "source": [
    "X_train, X_test, y_train, y_test = train_test_split(features, label, test_size=0.2)"
   ]
  },
  {
   "cell_type": "code",
   "execution_count": 105,
   "metadata": {},
   "outputs": [],
   "source": [
    "gnb = GaussianNB()\n",
    "nbtrain = gnb.fit(X_train, y_train)\n",
    "\n",
    "from sklearn.tree import DecisionTreeClassifier\n",
    "classifier = DecisionTreeClassifier()\n",
    "classifier = classifier.fit(X_train,y_train)"
   ]
  },
  {
   "cell_type": "code",
   "execution_count": 106,
   "metadata": {},
   "outputs": [],
   "source": [
    "pred = nbtrain.predict(X_test)"
   ]
  },
  {
   "cell_type": "code",
   "execution_count": 107,
   "metadata": {},
   "outputs": [
    {
     "name": "stdout",
     "output_type": "stream",
     "text": [
      "Accuracy Naive Bayes: 0.8926553672316384\n",
      "              precision    recall  f1-score   support\n",
      "\n",
      "           0       0.93      0.96      0.94       159\n",
      "           1       0.46      0.33      0.39        18\n",
      "\n",
      "    accuracy                           0.89       177\n",
      "   macro avg       0.69      0.64      0.66       177\n",
      "weighted avg       0.88      0.89      0.88       177\n",
      "\n"
     ]
    }
   ],
   "source": [
    "print(\"Accuracy Naive Bayes:\",metrics.accuracy_score(y_test, pred))\n",
    "print(classification_report(y_test,pred))"
   ]
  },
  {
   "cell_type": "code",
   "execution_count": 108,
   "metadata": {},
   "outputs": [],
   "source": [
    "predd = classifier.predict(X_test)"
   ]
  },
  {
   "cell_type": "code",
   "execution_count": 109,
   "metadata": {},
   "outputs": [
    {
     "name": "stdout",
     "output_type": "stream",
     "text": [
      "Accuracy Score C4.5: 0.8870056497175142\n",
      "              precision    recall  f1-score   support\n",
      "\n",
      "           0       0.92      0.96      0.94       159\n",
      "           1       0.42      0.28      0.33        18\n",
      "\n",
      "    accuracy                           0.89       177\n",
      "   macro avg       0.67      0.62      0.64       177\n",
      "weighted avg       0.87      0.89      0.88       177\n",
      "\n"
     ]
    }
   ],
   "source": [
    "print('Accuracy Score C4.5:', metrics.accuracy_score(y_test,predd))\n",
    "print(classification_report(y_test,predd))"
   ]
  },
  {
   "cell_type": "code",
   "execution_count": 110,
   "metadata": {},
   "outputs": [
    {
     "name": "stderr",
     "output_type": "stream",
     "text": [
      "c:\\users\\lizah\\appdata\\local\\programs\\python\\python37-32\\lib\\site-packages\\sklearn\\neural_network\\_multilayer_perceptron.py:571: ConvergenceWarning: Stochastic Optimizer: Maximum iterations (500) reached and the optimization hasn't converged yet.\n",
      "  % self.max_iter, ConvergenceWarning)\n"
     ]
    },
    {
     "data": {
      "text/plain": [
       "MLPClassifier(activation='relu', alpha=0.0001, batch_size='auto', beta_1=0.9,\n",
       "              beta_2=0.999, early_stopping=False, epsilon=1e-08,\n",
       "              hidden_layer_sizes=(8, 8, 8), learning_rate='constant',\n",
       "              learning_rate_init=0.001, max_fun=15000, max_iter=500,\n",
       "              momentum=0.9, n_iter_no_change=10, nesterovs_momentum=True,\n",
       "              power_t=0.5, random_state=None, shuffle=True, solver='adam',\n",
       "              tol=0.0001, validation_fraction=0.1, verbose=False,\n",
       "              warm_start=False)"
      ]
     },
     "execution_count": 110,
     "metadata": {},
     "output_type": "execute_result"
    }
   ],
   "source": [
    "from sklearn.neural_network import MLPClassifier\n",
    "mlp = MLPClassifier(hidden_layer_sizes=(8,8,8), activation='relu', solver='adam', max_iter=500)\n",
    "mlp.fit(X_train,y_train)"
   ]
  },
  {
   "cell_type": "code",
   "execution_count": 111,
   "metadata": {},
   "outputs": [],
   "source": [
    "preddd = mlp.predict(X_test)"
   ]
  },
  {
   "cell_type": "code",
   "execution_count": 112,
   "metadata": {},
   "outputs": [
    {
     "name": "stdout",
     "output_type": "stream",
     "text": [
      "Accuracy Score MLP: 0.9152542372881356\n",
      "              precision    recall  f1-score   support\n",
      "\n",
      "           0       0.92      0.99      0.95       159\n",
      "           1       0.71      0.28      0.40        18\n",
      "\n",
      "    accuracy                           0.92       177\n",
      "   macro avg       0.82      0.63      0.68       177\n",
      "weighted avg       0.90      0.92      0.90       177\n",
      "\n"
     ]
    }
   ],
   "source": [
    "print('Accuracy Score MLP:', metrics.accuracy_score(y_test,preddd))\n",
    "print(classification_report(y_test,preddd))"
   ]
  },
  {
   "cell_type": "code",
   "execution_count": null,
   "metadata": {},
   "outputs": [],
   "source": []
  }
 ],
 "metadata": {
  "file_extension": ".py",
  "kernelspec": {
   "display_name": "Python 3",
   "language": "python",
   "name": "python3"
  },
  "language_info": {
   "codemirror_mode": {
    "name": "ipython",
    "version": 3
   },
   "file_extension": ".py",
   "mimetype": "text/x-python",
   "name": "python",
   "nbconvert_exporter": "python",
   "pygments_lexer": "ipython3",
   "version": "3.7.2"
  },
  "mimetype": "text/x-python",
  "name": "python",
  "npconvert_exporter": "python",
  "pygments_lexer": "ipython3",
  "version": 3
 },
 "nbformat": 4,
 "nbformat_minor": 2
}
